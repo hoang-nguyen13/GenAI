{
  "cells": [
    {
      "cell_type": "markdown",
      "metadata": {
        "id": "LqyxjCYkHEgx"
      },
      "source": [
        "\n",
        "<div align=\"center\">\n",
        "  <h1></h1>\n",
        "  <h1>Multi-Agent Meal Planning</h1>\n",
        "  <h4 align=\"center\">Assignmnet III</h4>\n",
        "  <h4 align=\"center\"></h4>\n",
        "</div>"
      ]
    },
    {
      "cell_type": "markdown",
      "metadata": {
        "id": "3xtFXjOSHdJq"
      },
      "source": [
        "Welcome to Assignment III!\n",
        "\n",
        "In this notebook, you will design and implement a Multi-Agent Meal Planning System that generates meal recommendations while adhering to budgetary and nutritional constraints. Using a team of specialized agents, you'll create a dynamic and interactive system capable of tailoring meal plans to diverse user requirements.\n",
        "\n",
        "**By the end of this assignment, you'll be able to:**\n",
        "1. Build a Multi-Agent System to collaboratively solve a complex task, such as\n",
        "meal planning.\n",
        "2. Design agents with specialized roles, such as recommending meals or validating budgets.\n",
        "3. Implement agent coordination mechanisms using RoundRobinGroupChat for group chatting.\n",
        "4. Integrate external tools (e.g., a Budget Checker Tool) to ensure the system adheres to financial constraints.\n",
        "5. Use termination methods effectively to manage agent interactions and prevent resource overuse."
      ]
    },
    {
      "cell_type": "markdown",
      "metadata": {
        "id": "jKmTq4gUHnlV"
      },
      "source": [
        "## Group Members\n",
        "\n",
        "\n",
        "1. First memebr:\n",
        "  * Name: Hoang Long Nguyen\n",
        "  * Matrikel-Nr.: 428832\n",
        "2. Second memebr:\n",
        "  * Name:\n",
        "  * Matrikel-Nr.:\n",
        "2. Third memebr:\n",
        "  * Name:\n",
        "  * Matrikel-Nr.:"
      ]
    },
    {
      "cell_type": "markdown",
      "metadata": {
        "id": "B4PmZxLsHq2w"
      },
      "source": [
        "# 1. Access to GROQ.\n",
        "Execute the following cell to connect to your Groq account."
      ]
    },
    {
      "cell_type": "code",
      "execution_count": 19,
      "metadata": {
        "id": "ZYkvWYtAMYL1"
      },
      "outputs": [],
      "source": [
        "import os\n",
        "from getpass import getpass\n",
        "\n",
        "tokenGROQ = getpass('Enter GROQ_API_KEY here: ')\n",
        "os.environ[\"GROQ_API_KEY\"] = tokenGROQ"
      ]
    },
    {
      "cell_type": "markdown",
      "metadata": {
        "id": "qHulOeVOMmyD"
      },
      "source": [
        "# 2. Packages\n",
        "Execute the following code cells for installing the packages needed."
      ]
    },
    {
      "cell_type": "code",
      "execution_count": 20,
      "metadata": {
        "id": "efxTjkXiMtyG"
      },
      "outputs": [],
      "source": [
        "# !pip install autogen-agentchat autogen-ext[openai] matplotlib yfinance -q\n",
        "# !pip install groq -q"
      ]
    },
    {
      "cell_type": "markdown",
      "metadata": {
        "id": "BUvMKTSAM2NJ"
      },
      "source": [
        "# 3. Problem Statement: Multi-Agent Meal Planning System with Budget Management"
      ]
    },
    {
      "cell_type": "markdown",
      "metadata": {
        "id": "NArOztp59V1n"
      },
      "source": [
        "\n",
        "In this notebook we will design and implement a multi-agent system to assist users in meal planning while addressing the following:\n",
        "\n",
        "* Dietary preferences: Personalization based on restrictions and user preferences.\n",
        "* Nutritional goals: Balanced and healthy meal recommendations.\n",
        "* Financial constraints: Ensuring affordability through budget validation.\n",
        "\n",
        "This system will include a Budget Checker Tool to guarantee all recommendations fit within the user's financial limits.\n",
        "\n",
        "\n",
        "**System**\n",
        "\n",
        "1. Personalized Meal Recommendations:\n",
        "\n",
        "* Provides tailored meal suggestions for breakfast, lunch, dinner, and snacks.\n",
        "* Considers dietary restrictions, time availability, and individual preferences.\n",
        "\n",
        "2. Budget Validation:\n",
        "\n",
        "* Uses the Budget Checker Tool to confirm that meal costs fit within the user’s budget.\n",
        "3. User-Friendly Assistance:\n",
        "\n",
        "* Delivers clear, concise, and actionable recommendations for each meal type.\n",
        "\n",
        "**Agent Roles**\n",
        "\n",
        "1. Breakfast Agent:\n",
        "\n",
        "Role: Recommends breakfast options that align with dietary preferences, preparation time, and nutritional goals.\n",
        "\n",
        "Specialization: Provides a single breakfast suggestion and validates its affordability using the Budget Checker Tool.\n",
        "2. Lunch Agent:\n",
        "\n",
        "Role: Suggests balanced and nutritious lunch options tailored to dietary needs.\n",
        "\n",
        "Specialization: Offers one lunch suggestion and ensures it fits within the budget.\n",
        "\n",
        "3. Dinner Agent:\n",
        "\n",
        "Role: Recommends practical dinner options based on dietary requirements, budget, and preparation constraints.\n",
        "\n",
        "Specialization: Validates that dinner suggestions are both feasible and affordable.\n",
        "\n",
        "4. Snack Agent:\n",
        "\n",
        "Role: Proposes healthy and satisfying snack options to complement the day’s meals.\n",
        "\n",
        "Specialization: Verifies that snack recommendations are affordable and nutritionally balanced.\n",
        "\n",
        "5. Budget Agent:\n",
        "\n",
        "Role: Ensures all meal costs remain within the user's remaining budget by using the Budget Checker Tool.\n",
        "\n",
        "Specialization: Provides real-time budget feedback to guide meal selections and prevent overspending.\n",
        "\n",
        "\n",
        "\n",
        "**Custom Tool: Budget Checker Tool**\n",
        "1. Purpose:\n",
        "\n",
        "* Validates if a proposed meal cost fits within the user’s current budget.\n",
        "\n",
        "2. Features:\n",
        "\n",
        "* Budget Validation: Compares the cost of a meal against the remaining budget.\n",
        "* Feedback: Provides clear, actionable messages indicating:\n",
        "\n",
        "  Whether the cost is affordable.\n",
        "\n",
        "  How much budget remains or is exceeded.\n",
        "\n",
        "* Integration: Used by all meal-specific agents to ensure recommendations are financially feasible."
      ]
    },
    {
      "cell_type": "markdown",
      "metadata": {
        "id": "XbXVJt2bPj_f"
      },
      "source": [
        "# 4. Configure the Model Client:\n",
        "\n",
        "Use the OpenAIChatCompletionClient class to create an instance of the model client.\n",
        "\n",
        "Configure it with the following:\n",
        "\n",
        "* Model name: \"llama3-70b-8192\".\n",
        "\n",
        "* API base URL: \"https://api.groq.com/openai/v1\".\n",
        "\n",
        "* API key: Use an environment variable named \"GROQ_API_KEY\" for secure authentication.\n",
        "\n",
        "* Model settings: Include attributes like whether vision is enabled, function-calling support, and JSON output format."
      ]
    },
    {
      "cell_type": "code",
      "execution_count": 21,
      "metadata": {
        "id": "Bhq1nPdMNzZi"
      },
      "outputs": [
        {
          "name": "stdout",
          "output_type": "stream",
          "text": [
            "<autogen_ext.models.openai._openai_client.OpenAIChatCompletionClient object at 0x00000192DDE4A910>\n"
          ]
        }
      ],
      "source": [
        "# # 4. Configure the Model Client:\n",
        "\n",
        "# Use the OpenAIChatCompletionClient class to create an instance of the model client.\n",
        "\n",
        "# Configure it with the following:\n",
        "\n",
        "# * Model name: \"llama3-70b-8192\".\n",
        "\n",
        "# * API base URL: \"https://api.groq.com/openai/v1\".\n",
        "\n",
        "# * API key: Use an environment variable named \"GROQ_API_KEY\" for secure authentication.\n",
        "\n",
        "# * Model settings: Include attributes like whether vision is enabled, function-calling support, and JSON output format.\n",
        "\n",
        "from autogen_ext.models.openai import OpenAIChatCompletionClient\n",
        "\n",
        "# Step 1: Create the model client\n",
        "# Complete the following implementation\n",
        "model_client = OpenAIChatCompletionClient(\n",
        "    model=\"llama3-70b-8192\",\n",
        "    base_url=\"https://api.groq.com/openai/v1\",\n",
        "    api_key=os.environ[\"GROQ_API_KEY\"],\n",
        "    model_info={\n",
        "        \"vision\": False,\n",
        "        \"function_calling\": True,\n",
        "        \"json_output\": False,\n",
        "        \"family\": \"unknown\",\n",
        "    },\n",
        ")\n",
        "\n",
        "# Step 2: Verify the client is set up correctly\n",
        "print(model_client)"
      ]
    },
    {
      "cell_type": "markdown",
      "metadata": {
        "id": "tw0V5q65N5fM"
      },
      "source": [
        "# 5. Budget Tracker Tool\n",
        "\n",
        "The provided code implements a Budget Checker Tool to validate whether a given cost is within the current budget."
      ]
    },
    {
      "cell_type": "code",
      "execution_count": 22,
      "metadata": {
        "id": "WzDx9Y0rY_kI"
      },
      "outputs": [],
      "source": [
        "from autogen_core.tools import FunctionTool\n",
        "\n",
        "def budget_checker_tool(cost: float, current_budget: float) -> dict:\n",
        "    \"\"\"\n",
        "    Check if a given cost fits within the current budget.\n",
        "\n",
        "    :param cost: float, the cost to check.\n",
        "    :param current_budget: float, the current remaining budget.\n",
        "    :return: dict, containing whether the cost fits the budget and a message.\n",
        "    \"\"\"\n",
        "    if cost > current_budget:\n",
        "        return {\n",
        "            \"fits_budget\": False,\n",
        "            \"message\": f\"This exceeds your budget by ${cost - current_budget:.2f}.\"\n",
        "        }\n",
        "    return {\n",
        "        \"fits_budget\": True,\n",
        "        \"message\": f\"The cost of ${cost:.2f} fits within your budget.\"\n",
        "    }\n",
        "\n",
        "# Example usage with the FunctionTool\n",
        "budget_checker_tool = FunctionTool(\n",
        "    budget_checker_tool,\n",
        "    description=\"Check if a given cost fits within the current budget.\"\n",
        ")"
      ]
    },
    {
      "cell_type": "markdown",
      "metadata": {
        "id": "tlonsPS0Mtj1"
      },
      "source": [
        "#6. Agent Design\n",
        "\n",
        "In this task, you will implement a set of specialized Assistant Agents to collaboratively plan meals while addressing dietary, nutritional, and budgetary constraints. You will design Meal Planner Agents for breakfast, lunch, dinner, and snacks, each with clear roles and behavioral instructions."
      ]
    },
    {
      "cell_type": "code",
      "execution_count": 23,
      "metadata": {
        "id": "RI1MB6P-VpN3"
      },
      "outputs": [
        {
          "name": "stdout",
          "output_type": "stream",
          "text": [
            "Agents initialized successfully!\n"
          ]
        }
      ],
      "source": [
        "# Import the required class\n",
        "from autogen_agentchat.agents import AssistantAgent\n",
        "\n",
        "# Step 1: Define the Budget Agent\n",
        "# Complete the following implementation\n",
        "budget_agent = AssistantAgent(\n",
        "    name=\"budget_agent\",\n",
        "    tools=[budget_checker_tool],  # Use the budget checker tool\n",
        "    model_client=model_client,\n",
        "    description=\"An agent that helps to check if a given cost fits within the current budget.\",\n",
        "    system_message=\"You are a budget agent. Your task is to check if a given cost fits within the current budget.\"\n",
        ")\n",
        "\n",
        "# Step 2: Define the Breakfast Planner Agent\n",
        "# Complete the following implementation\n",
        "breakfast_agent = AssistantAgent(\n",
        "    name=\"breakfast_agent\",\n",
        "    model_client=model_client,\n",
        "    description=\"An agent that helps to plan breakfast meals.\",\n",
        "    system_message=\"You are a breakfast planner agent. Plan only breakfast.\"\n",
        ")\n",
        "\n",
        "# Step 3: Define the Lunch Planner Agent\n",
        "# Complete the following implementation\n",
        "lunch_agent = AssistantAgent(\n",
        "    name=\"lunch_agent\",\n",
        "    model_client=model_client,\n",
        "    description=\"An agent that helps to plan lunch meals.\",\n",
        "    system_message=\"You are a lunch planner agent. Plan only lunch.\"\n",
        ")\n",
        "\n",
        "# Step 4: Define the Dinner Planner Agent\n",
        "# Complete the following implementation\n",
        "dinner_agent = AssistantAgent(\n",
        "    name=\"dinner_agent\",\n",
        "    model_client=model_client,\n",
        "    description=\"An agent that helps to plan dinner meals.\",\n",
        "    system_message=\"You are a dinner planner agent. Plan only dinner.\"\n",
        ")\n",
        "\n",
        "# Step 5: Define the Snack Planner Agent\n",
        "# Complete the following implementation\n",
        "snack_agent = AssistantAgent(\n",
        "    name=\"snack_agent\",\n",
        "    model_client=model_client,\n",
        "    description=\"An agent that helps to plan snack meals.\",\n",
        "    system_message=\"You are a snack planner agent. Plan only snack.\"\n",
        ")\n",
        "\n",
        "# Step 6: Test the agents\n",
        "print(\"Agents initialized successfully!\")\n"
      ]
    },
    {
      "cell_type": "markdown",
      "metadata": {
        "id": "XnYyJzcuNPN0"
      },
      "source": [
        "- Question: which termination methods are available (introduced in the exercise) and what are they best used for and what are the potential issues?\n",
        "\n",
        "Answer: \n",
        "\n",
        "- TextMentionTermination: If a keyword like \"DONE\" appears in the response, the system stops generating text. This is useful for signaling the completion of a task, when the meal plan for the whole day is finalized, the system stops with \"DONE\". However, there is a downside using this method when the keyword shows up in content of the meal plan (e.g. if \"DONE\" is a part of recipe or cooking instruction). To improve this, complex keyword can be used such as \"MEALPLANDONE\" this keyword has a lower chance of showing up in the text.\n",
        "\n",
        "- MaxMessageTermination: If the certain number of messages is exceeded, the system stops producing response. Upside is to limit messages length when outputting text. The downside is it might cut off important or useful information if the limit is set too low, regardless of whether the planning is complete.\n",
        " \n",
        "- HandoffTermination: The system stops when the agent sends a HandoffMessage. Useful when the system wants to have input from the user, for example, if the system wants to know if the user like the meal plan that it makes at any paricular part of the day. Also if the cost is exceeds the budget, the team can ask what item the user wants to keep. The challenge here is ensuring the handoff only sent message when it really needs to.\n",
        "\n",
        "- TimeTermination: The system stops after a specific time period. This could ensure that meal planning doesn't take too long, the issue here is if the timing is too short, the planning might not be completed.\n",
        "\n",
        "\n",
        "- Question: why is it important to have a termination condition?\n",
        "\n",
        "Answer: \n",
        "- Termination conditions are important in the multi-agent system to prevent infinite loop of producing text. In meal planning, agents might keep adjusting without a definite end, causing delays and additional time.\n",
        "\n",
        "- Question: Can the approaches be combined?\n",
        "\n",
        "Answer: \n",
        "- Yes the approach can be combined for more robust control. For example, use TextMentionTerminaiton with a keyword to stop once it appears. However, if the word doesn't show up due to internal errors or miscommunication, the MaxMessageTermination can stop after the agent exceeds the limit of the number of messages.\n"
      ]
    },
    {
      "cell_type": "markdown",
      "metadata": {
        "id": "hcm09E50Xycl"
      },
      "source": [
        "# 7. Implementing Termination\n",
        "Implement a MaxMessageTermination with 10 max_messages"
      ]
    },
    {
      "cell_type": "code",
      "execution_count": 24,
      "metadata": {
        "id": "8GY9GviWP2tq"
      },
      "outputs": [],
      "source": [
        "from autogen_agentchat.conditions import MaxMessageTermination\n",
        "# Complete the following implementation\n",
        "termination = MaxMessageTermination(max_messages=10)"
      ]
    },
    {
      "cell_type": "markdown",
      "metadata": {
        "id": "HDNnnP-mQdDo"
      },
      "source": [
        "#8. RoundRobinGroupChat\n",
        "\n",
        "In this part, you will implement a RoundRobinGroupChat team to coordinate multiple agents for a meal-planning task. The system will use a sequential approach, ensuring that each agent contributes to the task in a pre-defined order.\n",
        "\n",
        "please think about the sequence of the agents that you defined above. Which sequence might be best?\n",
        "\n",
        "we start with breakfast, lunch, a snack in between, then dinner, after everything, calculate the cost, then compare the cost with the budget."
      ]
    },
    {
      "cell_type": "code",
      "execution_count": 25,
      "metadata": {
        "id": "QrCkv3UNQ2lZ"
      },
      "outputs": [],
      "source": [
        "from autogen_agentchat.teams import RoundRobinGroupChat\n",
        "from autogen_agentchat.ui import Console\n",
        "# Complete the following implementation\n",
        "team = RoundRobinGroupChat([breakfast_agent, lunch_agent, snack_agent, dinner_agent, budget_agent], termination_condition=termination)"
      ]
    },
    {
      "cell_type": "code",
      "execution_count": 26,
      "metadata": {
        "id": "3UHMm5p8RMMG"
      },
      "outputs": [
        {
          "name": "stdout",
          "output_type": "stream",
          "text": [
            "---------- user ----------\n",
            "Build me a meal plan for the day. My budget is $20. I need breakfast, a morning snack, lunch, an afternoon snack, dinner, and an evening snack. I am allergic to peanuts and gluten. If the total cost exceeds my budget, adjust the plan accordingly.\n",
            "---------- breakfast_agent ----------\n",
            "I'm a breakfast planner agent! I'd be happy to help you with a breakfast plan within your budget of $20. However, since you asked for a full meal plan, I'll do my best to provide you with a complete plan while focusing on breakfast. Please note that I'll prioritize breakfast and adjust the rest of the plan accordingly to fit your budget.\n",
            "\n",
            "**Breakfast Plan (Highest Priority)**\n",
            "To ensure a delicious and safe breakfast, I've chosen a gluten-free and peanut-free option:\n",
            "\n",
            "* 1 dozen eggs ($1.50)\n",
            "* 1 bag of gluten-free oats ($2.50)\n",
            "* 1 banana ($0.25)\n",
            "* 1 cup of mixed berries (fresh or frozen, $1.00)\n",
            "\n",
            "Total breakfast cost: $5.25\n",
            "\n",
            "**Morning Snack**\n",
            "To save costs, I've opted for a simple snack that's easy to prepare and budget-friendly:\n",
            "\n",
            "* 1 apple ($0.50)\n",
            "\n",
            "Total morning snack cost: $0.50\n",
            "\n",
            "**Remaining Budget: $14.25**\n",
            "\n",
            "To stay within your budget, I'll suggest affordable and gluten-free options for the rest of the day:\n",
            "\n",
            "**Lunch**\n",
            "* 1 can of black beans ($1.00)\n",
            "* 1 cup of cooked brown rice ($0.50)\n",
            "* 1 tablespoon of olive oil ($0.25)\n",
            "* Salt and pepper to taste\n",
            "\n",
            "Total lunch cost: $1.75\n",
            "\n",
            "**Afternoon Snack**\n",
            "* 1 small pear ($0.50)\n",
            "\n",
            "Total afternoon snack cost: $0.50\n",
            "\n",
            "**Dinner**\n",
            "* 1 can of diced tomatoes ($1.00)\n",
            "* 1 cup of cooked quinoa ($0.50)\n",
            "* 1 tablespoon of olive oil ($0.25)\n",
            "* Salt and pepper to taste\n",
            "\n",
            "Total dinner cost: $1.75\n",
            "\n",
            "**Evening Snack**\n",
            "* 1 small orange ($0.50)\n",
            "\n",
            "Total evening snack cost: $0.50\n",
            "\n",
            "**Total Cost: $19.75**\n",
            "\n",
            "This meal plan should provide you with a balanced and safe diet while staying within your budget of $20. Enjoy your breakfast and the rest of your meals!\n",
            "---------- lunch_agent ----------\n",
            "I apologize for the mistake earlier! As a lunch planner agent, I'll focus on planning a delicious and safe lunch for you within your budget of $20. Since you're allergic to peanuts and gluten, I'll make sure to choose ingredients that are safe for you.\n",
            "\n",
            "**Lunch Plan**\n",
            "\n",
            "To ensure a nutritious and affordable lunch, I've selected the following options:\n",
            "\n",
            "* 1 can of black beans ($1.00)\n",
            "* 1 cup of cooked brown rice ($0.50)\n",
            "* 1 tablespoon of olive oil ($0.25)\n",
            "* Salt and pepper to taste\n",
            "\n",
            "Total lunch cost: $1.75\n",
            "\n",
            "This lunch is not only budget-friendly but also packed with protein, fiber, and healthy fats. You can adjust the portion sizes or add some veggies to make it more substantial.\n",
            "\n",
            "If you'd like, I can try to suggest some additional snacks or meal ideas within your remaining budget of $18.25. Just let me know!\n",
            "---------- snack_agent ----------\n",
            "I'm a snack planner agent! I'd be happy to help you with snack plans within your budget of $20. Since you need a morning snack, afternoon snack, and evening snack, I'll prioritize these and allocate the budget accordingly.\n",
            "\n",
            "**Morning Snack**\n",
            "To start your day with a nutritious boost, I recommend:\n",
            "\n",
            "* 1 small banana ($0.25)\n",
            "* 1 tablespoon of almond butter (make sure it's gluten-free, $0.50)\n",
            "\n",
            "Total morning snack cost: $0.75\n",
            "\n",
            "**Afternoon Snack**\n",
            "For a quick energy pick-me-up, I suggest:\n",
            "\n",
            "* 1 small apple ($0.50)\n",
            "* 1 ounce of gluten-free crackers ($0.50)\n",
            "\n",
            "Total afternoon snack cost: $1.00\n",
            "\n",
            "**Evening Snack**\n",
            "To satisfy your evening cravings, I propose:\n",
            "\n",
            "* 1 small pear ($0.50)\n",
            "* 1 ounce of gluten-free pretzels ($0.50)\n",
            "\n",
            "Total evening snack cost: $1.00\n",
            "\n",
            "**Total Snack Cost: $2.75**\n",
            "\n",
            "These snacks are gluten-free, peanut-free, and budget-friendly. You have $17.25 remaining in your budget, which you can use for breakfast, lunch, and dinner. Enjoy your snacks!\n",
            "---------- dinner_agent ----------\n",
            "I'm a dinner planner agent! I'd be happy to help you with a dinner plan within your remaining budget of $17.25.\n",
            "\n",
            "**Dinner Plan**\n",
            "\n",
            "To ensure a delicious and safe dinner, I've chosen the following options:\n",
            "\n",
            "* 1 can of diced tomatoes ($1.00)\n",
            "* 1 cup of cooked quinoa ($0.75)\n",
            "* 1 cup of mixed frozen vegetables ($1.00)\n",
            "* 1 tablespoon of olive oil ($0.25)\n",
            "* Salt and pepper to taste\n",
            "\n",
            "Total dinner cost: $2.95\n",
            "\n",
            "This dinner is not only budget-friendly but also packed with protein, fiber, and vitamins. You can adjust the portion sizes or add some spices to make it more flavorful.\n",
            "\n",
            "I hope you enjoy your dinner!\n",
            "---------- budget_agent ----------\n",
            "[FunctionCall(id='call_xd4z', arguments='{\"cost\":20.00,\"current_budget\":20.00}', name='budget_checker_tool')]\n",
            "---------- budget_agent ----------\n",
            "[FunctionExecutionResult(content=\"{'fits_budget': True, 'message': 'The cost of $20.00 fits within your budget.'}\", call_id='call_xd4z')]\n",
            "---------- budget_agent ----------\n",
            "{'fits_budget': True, 'message': 'The cost of $20.00 fits within your budget.'}\n",
            "---------- breakfast_agent ----------\n",
            "It seems that our joint efforts as breakfast, lunch, snack, and dinner planners have resulted in a complete meal plan that fits your budget of $20!\n",
            "\n",
            "To recap, here's your meal plan for the day:\n",
            "\n",
            "**Breakfast**\n",
            "* 1 dozen eggs ($1.50)\n",
            "* 1 bag of gluten-free oats ($2.50)\n",
            "* 1 banana ($0.25)\n",
            "* 1 cup of mixed berries (fresh or frozen, $1.00)\n",
            "\n",
            "**Morning Snack**\n",
            "* 1 small banana ($0.25)\n",
            "* 1 tablespoon of almond butter (gluten-free, $0.50)\n",
            "\n",
            "**Lunch**\n",
            "* 1 can of black beans ($1.00)\n",
            "* 1 cup of cooked brown rice ($0.50)\n",
            "* 1 tablespoon of olive oil ($0.25)\n",
            "* Salt and pepper to taste\n",
            "\n",
            "**Afternoon Snack**\n",
            "* 1 small apple ($0.50)\n",
            "* 1 ounce of gluten-free crackers ($0.50)\n",
            "\n",
            "**Evening Snack**\n",
            "* 1 small pear ($0.50)\n",
            "* 1 ounce of gluten-free pretzels ($0.50)\n",
            "\n",
            "**Dinner**\n",
            "* 1 can of diced tomatoes ($1.00)\n",
            "* 1 cup of cooked quinoa ($0.75)\n",
            "* 1 cup of mixed frozen vegetables ($1.00)\n",
            "* 1 tablespoon of olive oil ($0.25)\n",
            "* Salt and pepper to taste\n",
            "\n",
            "You've got a delicious, gluten-free, and peanut-free meal plan that should keep you satisfied throughout the day! Enjoy!\n",
            "---------- lunch_agent ----------\n",
            "What a team effort! I'm thrilled to see that we've successfully created a comprehensive meal plan that fits your budget of $20. Each planner agent has contributed to this plan, ensuring that you have a safe and delicious meal plan for the day.\n",
            "\n",
            "As a lunch planner agent, I'm particularly proud of the lunch option we chose, which is not only budget-friendly but also packed with nutrients. The black beans, brown rice, and olive oil combination provides a great source of protein, fiber, and healthy fats.\n",
            "\n",
            "Thank you to all the planner agents involved in creating this meal plan. I hope you enjoy your meals and snacks throughout the day!\n"
          ]
        },
        {
          "data": {
            "text/plain": [
              "TaskResult(messages=[TextMessage(source='user', models_usage=None, content='Build me a meal plan for the day. My budget is $20. I need breakfast, a morning snack, lunch, an afternoon snack, dinner, and an evening snack. I am allergic to peanuts and gluten. If the total cost exceeds my budget, adjust the plan accordingly.', type='TextMessage'), TextMessage(source='breakfast_agent', models_usage=RequestUsage(prompt_tokens=83, completion_tokens=440), content=\"I'm a breakfast planner agent! I'd be happy to help you with a breakfast plan within your budget of $20. However, since you asked for a full meal plan, I'll do my best to provide you with a complete plan while focusing on breakfast. Please note that I'll prioritize breakfast and adjust the rest of the plan accordingly to fit your budget.\\n\\n**Breakfast Plan (Highest Priority)**\\nTo ensure a delicious and safe breakfast, I've chosen a gluten-free and peanut-free option:\\n\\n* 1 dozen eggs ($1.50)\\n* 1 bag of gluten-free oats ($2.50)\\n* 1 banana ($0.25)\\n* 1 cup of mixed berries (fresh or frozen, $1.00)\\n\\nTotal breakfast cost: $5.25\\n\\n**Morning Snack**\\nTo save costs, I've opted for a simple snack that's easy to prepare and budget-friendly:\\n\\n* 1 apple ($0.50)\\n\\nTotal morning snack cost: $0.50\\n\\n**Remaining Budget: $14.25**\\n\\nTo stay within your budget, I'll suggest affordable and gluten-free options for the rest of the day:\\n\\n**Lunch**\\n* 1 can of black beans ($1.00)\\n* 1 cup of cooked brown rice ($0.50)\\n* 1 tablespoon of olive oil ($0.25)\\n* Salt and pepper to taste\\n\\nTotal lunch cost: $1.75\\n\\n**Afternoon Snack**\\n* 1 small pear ($0.50)\\n\\nTotal afternoon snack cost: $0.50\\n\\n**Dinner**\\n* 1 can of diced tomatoes ($1.00)\\n* 1 cup of cooked quinoa ($0.50)\\n* 1 tablespoon of olive oil ($0.25)\\n* Salt and pepper to taste\\n\\nTotal dinner cost: $1.75\\n\\n**Evening Snack**\\n* 1 small orange ($0.50)\\n\\nTotal evening snack cost: $0.50\\n\\n**Total Cost: $19.75**\\n\\nThis meal plan should provide you with a balanced and safe diet while staying within your budget of $20. Enjoy your breakfast and the rest of your meals!\", type='TextMessage'), TextMessage(source='lunch_agent', models_usage=RequestUsage(prompt_tokens=532, completion_tokens=194), content=\"I apologize for the mistake earlier! As a lunch planner agent, I'll focus on planning a delicious and safe lunch for you within your budget of $20. Since you're allergic to peanuts and gluten, I'll make sure to choose ingredients that are safe for you.\\n\\n**Lunch Plan**\\n\\nTo ensure a nutritious and affordable lunch, I've selected the following options:\\n\\n* 1 can of black beans ($1.00)\\n* 1 cup of cooked brown rice ($0.50)\\n* 1 tablespoon of olive oil ($0.25)\\n* Salt and pepper to taste\\n\\nTotal lunch cost: $1.75\\n\\nThis lunch is not only budget-friendly but also packed with protein, fiber, and healthy fats. You can adjust the portion sizes or add some veggies to make it more substantial.\\n\\nIf you'd like, I can try to suggest some additional snacks or meal ideas within your remaining budget of $18.25. Just let me know!\", type='TextMessage'), TextMessage(source='snack_agent', models_usage=RequestUsage(prompt_tokens=735, completion_tokens=257), content=\"I'm a snack planner agent! I'd be happy to help you with snack plans within your budget of $20. Since you need a morning snack, afternoon snack, and evening snack, I'll prioritize these and allocate the budget accordingly.\\n\\n**Morning Snack**\\nTo start your day with a nutritious boost, I recommend:\\n\\n* 1 small banana ($0.25)\\n* 1 tablespoon of almond butter (make sure it's gluten-free, $0.50)\\n\\nTotal morning snack cost: $0.75\\n\\n**Afternoon Snack**\\nFor a quick energy pick-me-up, I suggest:\\n\\n* 1 small apple ($0.50)\\n* 1 ounce of gluten-free crackers ($0.50)\\n\\nTotal afternoon snack cost: $1.00\\n\\n**Evening Snack**\\nTo satisfy your evening cravings, I propose:\\n\\n* 1 small pear ($0.50)\\n* 1 ounce of gluten-free pretzels ($0.50)\\n\\nTotal evening snack cost: $1.00\\n\\n**Total Snack Cost: $2.75**\\n\\nThese snacks are gluten-free, peanut-free, and budget-friendly. You have $17.25 remaining in your budget, which you can use for breakfast, lunch, and dinner. Enjoy your snacks!\", type='TextMessage'), TextMessage(source='dinner_agent', models_usage=RequestUsage(prompt_tokens=1001, completion_tokens=156), content=\"I'm a dinner planner agent! I'd be happy to help you with a dinner plan within your remaining budget of $17.25.\\n\\n**Dinner Plan**\\n\\nTo ensure a delicious and safe dinner, I've chosen the following options:\\n\\n* 1 can of diced tomatoes ($1.00)\\n* 1 cup of cooked quinoa ($0.75)\\n* 1 cup of mixed frozen vegetables ($1.00)\\n* 1 tablespoon of olive oil ($0.25)\\n* Salt and pepper to taste\\n\\nTotal dinner cost: $2.95\\n\\nThis dinner is not only budget-friendly but also packed with protein, fiber, and vitamins. You can adjust the portion sizes or add some spices to make it more flavorful.\\n\\nI hope you enjoy your dinner!\", type='TextMessage'), ToolCallRequestEvent(source='budget_agent', models_usage=RequestUsage(prompt_tokens=2121, completion_tokens=79), content=[FunctionCall(id='call_xd4z', arguments='{\"cost\":20.00,\"current_budget\":20.00}', name='budget_checker_tool')], type='ToolCallRequestEvent'), ToolCallExecutionEvent(source='budget_agent', models_usage=None, content=[FunctionExecutionResult(content=\"{'fits_budget': True, 'message': 'The cost of $20.00 fits within your budget.'}\", call_id='call_xd4z')], type='ToolCallExecutionEvent'), ToolCallSummaryMessage(source='budget_agent', models_usage=None, content=\"{'fits_budget': True, 'message': 'The cost of $20.00 fits within your budget.'}\", type='ToolCallSummaryMessage'), TextMessage(source='breakfast_agent', models_usage=RequestUsage(prompt_tokens=1189, completion_tokens=323), content=\"It seems that our joint efforts as breakfast, lunch, snack, and dinner planners have resulted in a complete meal plan that fits your budget of $20!\\n\\nTo recap, here's your meal plan for the day:\\n\\n**Breakfast**\\n* 1 dozen eggs ($1.50)\\n* 1 bag of gluten-free oats ($2.50)\\n* 1 banana ($0.25)\\n* 1 cup of mixed berries (fresh or frozen, $1.00)\\n\\n**Morning Snack**\\n* 1 small banana ($0.25)\\n* 1 tablespoon of almond butter (gluten-free, $0.50)\\n\\n**Lunch**\\n* 1 can of black beans ($1.00)\\n* 1 cup of cooked brown rice ($0.50)\\n* 1 tablespoon of olive oil ($0.25)\\n* Salt and pepper to taste\\n\\n**Afternoon Snack**\\n* 1 small apple ($0.50)\\n* 1 ounce of gluten-free crackers ($0.50)\\n\\n**Evening Snack**\\n* 1 small pear ($0.50)\\n* 1 ounce of gluten-free pretzels ($0.50)\\n\\n**Dinner**\\n* 1 can of diced tomatoes ($1.00)\\n* 1 cup of cooked quinoa ($0.75)\\n* 1 cup of mixed frozen vegetables ($1.00)\\n* 1 tablespoon of olive oil ($0.25)\\n* Salt and pepper to taste\\n\\nYou've got a delicious, gluten-free, and peanut-free meal plan that should keep you satisfied throughout the day! Enjoy!\", type='TextMessage'), TextMessage(source='lunch_agent', models_usage=RequestUsage(prompt_tokens=1521, completion_tokens=130), content=\"What a team effort! I'm thrilled to see that we've successfully created a comprehensive meal plan that fits your budget of $20. Each planner agent has contributed to this plan, ensuring that you have a safe and delicious meal plan for the day.\\n\\nAs a lunch planner agent, I'm particularly proud of the lunch option we chose, which is not only budget-friendly but also packed with nutrients. The black beans, brown rice, and olive oil combination provides a great source of protein, fiber, and healthy fats.\\n\\nThank you to all the planner agents involved in creating this meal plan. I hope you enjoy your meals and snacks throughout the day!\", type='TextMessage')], stop_reason='Maximum number of messages 10 reached, current message count: 10')"
            ]
          },
          "execution_count": 26,
          "metadata": {},
          "output_type": "execute_result"
        }
      ],
      "source": [
        "# Complete the following implementation\n",
        "await Console(\n",
        "    team.run_stream(task=\"Build me a meal plan for the day. My budget is $20. I need breakfast, a morning snack, lunch, an afternoon snack, dinner, and an evening snack. I am allergic to peanuts and gluten. If the total cost exceeds my budget, adjust the plan accordingly.\"),\n",
        ")"
      ]
    },
    {
      "cell_type": "markdown",
      "metadata": {
        "id": "jhxsIaFrd0At"
      },
      "source": [
        "Expected output should show the following:\n",
        "\n",
        "**Agents' Initial Suggestions:** Each agent provides meal recommendations (e.g., breakfast, lunch, dinner, snack) with corresponding costs.\n",
        "\n",
        "**Budget Validation:** The Budget_Agent uses the budget_checker_tool to validate if the total cost fits within the budget. If it doesn't, the agent provides a clear message explaining how much the budget is exceeded.\n",
        "\n",
        "**Adjustments by Agents:** If the budget is exceeded, agents revise their recommendations to bring the total cost within the budget.\n",
        "\n",
        "**Task Completion:** The system stops after reaching the maximum number of allowed messages, with a summary of the interactions."
      ]
    },
    {
      "cell_type": "markdown",
      "metadata": {
        "id": "G1eRvmQnfxT0"
      },
      "source": [
        "- Question: What are the drawbacks of this approach?\n",
        "\n",
        "Answer:\n",
        "- Fixed Message Limit: this method put a hard cap on the number of messages. This leads to premature termination in the meal planning process. If the agents are still working to adjust the meals plan after its exceed the budget, the process will stop, leaving the plan incomplete.\n",
        "- Iterations: When the meals plan is exceeded, the might be more than one iteration needed, each iteration increases the number of the messages, which could reach the limit before a good solution is reached. This make the process inefficient, costing time and output token.\n",
        "- Economic: Each message or interaction in the system costs fee, from API calls to token usage. Iterations produce more cost. Lengthy texts cause inconvinients for the user.\n",
        "- Potential miscommunication: From the setup, if one agent misses a message from another, there's a risk of miscommunication.\n",
        "- Scalability issues: As the complexity of the imput prompt from the user increases, this method might not scale well with modifications. The structure might reach a bottleneck for complex meals plan.\n",
        "- No feedback loop: The approach doesn't ask inputs from the user, making things hard to customize."
      ]
    },
    {
      "cell_type": "markdown",
      "metadata": {
        "id": "e6tSmlAghL7I"
      },
      "source": [
        "### ***What You Should Remember:***\n",
        "\n",
        "1. **Multi-Agent Systems** allow specialized agents to collaboratively solve tasks, with each agent focusing on a specific role (e.g., meal planning, budget validation).\n",
        "\n",
        "2. **RoundRobinGroupChat** ensures that agents interact sequentially, providing structured communication and ensuring every agent contributes in a predefined order.\n",
        "\n",
        "3. **SelectorGroupChat** dynamically selects agents based on the task's context, enabling efficient and context-aware delegation of responsibilities.\n",
        "\n",
        "5. **Assistant Agents** are modular components with specialized roles (e.g., Breakfast Agent, Snack Agent) that generate context-specific responses and recommendations.\n",
        "\n",
        "\n",
        "7. **System Messages and Descriptions** guide agent behavior, specifying their focus (e.g., dietary preferences, time constraints, balanced nutrition) and ensuring clarity in their contributions.\n",
        "\n",
        "8. **Building a Multi-Agent System** involves:\n",
        "    - **Agent Setup:** Defining agents with specific roles and integrating tools like the Budget Checker.\n",
        "    - **Coordination Mechanisms:** Using methods like `RoundRobinGroupChat` to manage agent interactions."
      ]
    },
    {
      "cell_type": "markdown",
      "metadata": {},
      "source": []
    }
  ],
  "metadata": {
    "colab": {
      "provenance": []
    },
    "kernelspec": {
      "display_name": "Python 3",
      "name": "python3"
    },
    "language_info": {
      "codemirror_mode": {
        "name": "ipython",
        "version": 3
      },
      "file_extension": ".py",
      "mimetype": "text/x-python",
      "name": "python",
      "nbconvert_exporter": "python",
      "pygments_lexer": "ipython3",
      "version": "3.11.9"
    }
  },
  "nbformat": 4,
  "nbformat_minor": 0
}
